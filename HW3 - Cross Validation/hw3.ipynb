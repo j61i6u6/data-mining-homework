{
 "cells": [
  {
   "cell_type": "code",
   "execution_count": 174,
   "metadata": {},
   "outputs": [
    {
     "name": "stdout",
     "output_type": "stream",
     "text": [
      "0.8658783783783784\n",
      "0.865970515970516\n"
     ]
    }
   ],
   "source": [
    "import pandas as pd\n",
    "from sklearn import ensemble\n",
    "df = pd.read_csv('dm\\data.csv')\n",
    "\n",
    "#將文字轉成dummy\n",
    "workclass_dummy = pd.get_dummies(df.workclass)\n",
    "education_dummy = pd.get_dummies(df.education)\n",
    "marital_status_dummy = pd.get_dummies(df.marital_status)\n",
    "occupation_dummy = pd.get_dummies(df.occupation)\n",
    "relationship_dummy = pd.get_dummies(df.relationship)\n",
    "race_dummy = pd.get_dummies(df.race)\n",
    "sex_dummy = pd.get_dummies(df.sex)\n",
    "native_country_dummy = pd.get_dummies(df.native_country)\n",
    "income = pd.get_dummies(df.income)\n",
    "\n",
    "\n",
    "#把dummy加進原資料並去除文字資料\n",
    "df=pd.concat([df,workclass_dummy],axis=1)\n",
    "df=pd.concat([df,education_dummy],axis=1)\n",
    "df=pd.concat([df,marital_status_dummy],axis=1)\n",
    "df=pd.concat([df,occupation_dummy],axis=1)\n",
    "df=pd.concat([df,relationship_dummy],axis=1)\n",
    "df=pd.concat([df,race_dummy],axis=1)\n",
    "df=pd.concat([df,sex_dummy],axis=1)\n",
    "df=pd.concat([df,native_country_dummy],axis=1)\n",
    "df=pd.concat([df,income.iloc[:,1]],axis=1)\n",
    "\n",
    "df = df.drop(['workclass', 'education','marital_status','occupation','relationship','race','sex','native_country','income']\n",
    "             , axis=1)\n",
    "\n",
    "\n",
    "\n",
    "#定義cross-validation function\n",
    "def K_fold_CV(k, data):\n",
    "    row = data.shape[0]\n",
    "    sbsize = int(row/k)\n",
    "    accuracy = 0\n",
    "    for i in range(0,k):\n",
    "        front = i*sbsize\n",
    "        rear = front+sbsize-1\n",
    "        train = data.drop(df.index[front:rear+1])\n",
    "        train_x = train.drop([' >50K'], axis=1)\n",
    "        train_y = train[' >50K']\n",
    "        test = data.iloc[front:rear+1]\n",
    "        test_x = test.drop([' >50K'], axis=1)\n",
    "        test_y = test[' >50K']\n",
    "        clf = ensemble.GradientBoostingClassifier()\n",
    "        clf.fit(train_x, train_y)\n",
    "        accuracy = accuracy+clf.score(test_x, test_y)\n",
    "    return accuracy/k\n",
    "\n",
    "\n",
    "#運行\n",
    "K_10 = K_fold_CV(10, df)\n",
    "print(K_10)\n",
    "K_2 = K_fold_CV(2, df)\n",
    "print(K_2)\n",
    "#報告:分比較多K正確率並沒有明顯上升，應該是資料量已經遠大於這個模型需要的資料量，所以幾乎都達到了這個模型能預測這次資料的上限了"
   ]
  },
  {
   "cell_type": "code",
   "execution_count": null,
   "metadata": {},
   "outputs": [],
   "source": []
  }
 ],
 "metadata": {
  "kernelspec": {
   "display_name": "Python 3",
   "language": "python",
   "name": "python3"
  },
  "language_info": {
   "codemirror_mode": {
    "name": "ipython",
    "version": 3
   },
   "file_extension": ".py",
   "mimetype": "text/x-python",
   "name": "python",
   "nbconvert_exporter": "python",
   "pygments_lexer": "ipython3",
   "version": "3.6.5"
  }
 },
 "nbformat": 4,
 "nbformat_minor": 2
}
