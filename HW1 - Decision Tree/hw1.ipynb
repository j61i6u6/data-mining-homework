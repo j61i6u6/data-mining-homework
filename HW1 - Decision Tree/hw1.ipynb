{
 "cells": [
  {
   "cell_type": "code",
   "execution_count": 11,
   "metadata": {
    "scrolled": true
   },
   "outputs": [
    {
     "name": "stdout",
     "output_type": "stream",
     "text": [
      "Confusion Matrix\n",
      "[[134  31]\n",
      " [ 30  35]]\n",
      "accuracy\n",
      "0.7347826086956522\n",
      "precision\n",
      "[0.81707317 0.53030303]\n",
      "recall\n",
      "[0.81212121 0.53846154]\n"
     ]
    }
   ],
   "source": [
    "import pandas as pd\n",
    "from sklearn.model_selection import train_test_split\n",
    "from sklearn import tree\n",
    "import graphviz \n",
    "from sklearn.metrics import accuracy_score\n",
    "from sklearn.metrics import confusion_matrix\n",
    "from sklearn.metrics import precision_score\n",
    "from sklearn.metrics import recall_score\n",
    "\n",
    "df = pd.read_csv('dm\\character-deaths.csv')\n",
    "\n",
    "df2=df.fillna(0)#把空值以0替代\n",
    "\n",
    "a=df2.iloc[:,0].size#將有數值的轉成1\n",
    "for x in range(a):\n",
    " if(df2.at[x,'Death Year'] != 0.0):\n",
    "  df2.at[x,'Death Year']= 1\n",
    "\n",
    "dummy=pd.get_dummies(df2.Allegiances)#轉成dummy特徵\n",
    "df2=pd.concat([df2,dummy],axis=1)\n",
    "\n",
    "y=df2['Death Year']#把Y跟X區分出來\n",
    "X = df2.drop(['Death Year', 'Book of Death','Death Chapter','Allegiances','Name'], axis=1)\n",
    "\n",
    "X_train, X_test, y_train, y_test = train_test_split(X, y,test_size=0.25)#拆成測試訓練集\n",
    "\n",
    "clf = tree.DecisionTreeClassifier()#訓練\n",
    "clf = clf.fit(X_train, y_train)\n",
    "\n",
    "dot_data = tree.export_graphviz(clf, out_file=None)#建樹\n",
    "graph = graphviz.Source(dot_data) \n",
    "graph.render(\"iris\")\n",
    "\n",
    "test_value = clf.predict(X_test)#測試\n",
    "\n",
    "accuracy = accuracy_score(test_value, y_test)#做出Confusion Matrix，並計算Precision, Recall, Accuracy\n",
    "precision = precision_score(y_test, test_value, average=None)\n",
    "recall = recall_score(y_test, test_value, average=None)\n",
    "matrix = confusion_matrix(y_test, test_value)\n",
    "\n",
    "print('Confusion Matrix')\n",
    "print(matrix)\n",
    "print('accuracy')\n",
    "print(accuracy)\n",
    "print('precision')\n",
    "print(precision)\n",
    "print('recall')\n",
    "print(recall)"
   ]
  },
  {
   "cell_type": "code",
   "execution_count": null,
   "metadata": {},
   "outputs": [],
   "source": []
  }
 ],
 "metadata": {
  "kernelspec": {
   "display_name": "Python 3",
   "language": "python",
   "name": "python3"
  },
  "language_info": {
   "codemirror_mode": {
    "name": "ipython",
    "version": 3
   },
   "file_extension": ".py",
   "mimetype": "text/x-python",
   "name": "python",
   "nbconvert_exporter": "python",
   "pygments_lexer": "ipython3",
   "version": "3.6.5"
  }
 },
 "nbformat": 4,
 "nbformat_minor": 2
}
